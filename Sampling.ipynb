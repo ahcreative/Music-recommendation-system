{
 "cells": [
  {
   "attachments": {},
   "cell_type": "markdown",
   "metadata": {},
   "source": [
    "Sampling of Data\n"
   ]
  },
  {
   "cell_type": "code",
   "execution_count": 19,
   "metadata": {},
   "outputs": [],
   "source": [
    "import os\n",
    "import shutil\n",
    "import zipfile\n",
    "\n",
    "def extract_subset(zip_file_path, output_folder, file_count=1000, total_size_gb=20):\n",
    "    # Create output folder if it doesn't exist\n",
    "    os.makedirs(output_folder, exist_ok=True)\n",
    "    \n",
    "    # Open the zip file\n",
    "    with zipfile.ZipFile(zip_file_path, 'r') as zip_ref:\n",
    "        extracted_size = 0\n",
    "        extracted_count = 0\n",
    "        \n",
    "        # Iterate over each file in the zip archive\n",
    "        for file_info in zip_ref.infolist():\n",
    "            # Check if the total size limit or file count limit is reached\n",
    "            if extracted_count >= file_count or extracted_size >= total_size_gb * (1024 ** 3):\n",
    "                break\n",
    "            \n",
    "            # Extract the file\n",
    "            zip_ref.extract(file_info.filename, output_folder)\n",
    "            \n",
    "            # Calculate the size of the extracted file\n",
    "            extracted_size += file_info.file_size\n",
    "            \n",
    "            # Increment the extracted file count\n",
    "            extracted_count += 1\n",
    "\n",
    "zip_file_path = r'F:\\fma_large.zip'\n",
    "output_folder = r'F:\\sample_size'\n",
    "extract_subset(zip_file_path, output_folder, file_count=1000, total_size_gb=15)\n",
    "\n"
   ]
  }
 ],
 "metadata": {
  "kernelspec": {
   "display_name": "Python 3",
   "language": "python",
   "name": "python3"
  },
  "language_info": {
   "codemirror_mode": {
    "name": "ipython",
    "version": 3
   },
   "file_extension": ".py",
   "mimetype": "text/x-python",
   "name": "python",
   "nbconvert_exporter": "python",
   "pygments_lexer": "ipython3",
   "version": "3.12.2"
  },
  "orig_nbformat": 4
 },
 "nbformat": 4,
 "nbformat_minor": 2
}
